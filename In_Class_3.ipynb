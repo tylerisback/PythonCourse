{
 "cells": [
  {
   "cell_type": "code",
   "execution_count": 32,
   "id": "unlimited-roommate",
   "metadata": {},
   "outputs": [],
   "source": [
    "def binarify(num): \n",
    "    \"\"\"convert positive integer to base 2\"\"\"\n",
    "    if num<=0: \n",
    "        return '0'\n",
    "    digits = []\n",
    "    while num // 2 > 0:\n",
    "        rem = num % 2\n",
    "        num = num // 2\n",
    "        digits.insert(0,str(rem))\n",
    "    if num // 2 == 0:\n",
    "        rem = num % 2\n",
    "        digits.insert(0,str(rem))\n",
    "    return ''.join(digits)"
   ]
  },
  {
   "cell_type": "code",
   "execution_count": 75,
   "id": "white-belle",
   "metadata": {},
   "outputs": [],
   "source": [
    "def int_to_base(num, base):\n",
    "    \"\"\"convert positive integer to a string in any base\"\"\"\n",
    "    if num<=0:  \n",
    "        return '0'\n",
    "    digits = []\n",
    "    while num // base > 0:\n",
    "        rem = num % base\n",
    "        num = num // base\n",
    "        digits.insert(0,str(rem))\n",
    "    if num // base == 0:\n",
    "        rem = num % base\n",
    "        digits.insert(0,str(rem))\n",
    "    return ''.join(digits)"
   ]
  },
  {
   "cell_type": "code",
   "execution_count": 77,
   "id": "hollywood-guest",
   "metadata": {},
   "outputs": [],
   "source": [
    "def base_to_int(string, base):\n",
    "    \"\"\"take a string-formatted number and its base and return the base-10 integer\"\"\"\n",
    "    if string==\"0\" or base <= 0 : return 0\n",
    "    result = 0\n",
    "    len_str = len(string)-1\n",
    "    for i in string:\n",
    "        result+= int(i)*(base ** len_str)\n",
    "        len_str -=1\n",
    "\n",
    "    return result "
   ]
  },
  {
   "cell_type": "code",
   "execution_count": 83,
   "id": "incredible-probability",
   "metadata": {},
   "outputs": [],
   "source": [
    "def flexibase_add(str1, str2, base1, base2):\n",
    "    \"\"\"add two numbers of different bases and return the sum\"\"\"\n",
    "    int1 = base_to_int(str1, base1)\n",
    "    int2 = base_to_int(str2, base2)\n",
    "    \n",
    "    tmp = int1 + int2\n",
    "    \n",
    "    result = int_to_base(tmp, base1)\n",
    "    return result "
   ]
  },
  {
   "cell_type": "code",
   "execution_count": 86,
   "id": "standing-malpractice",
   "metadata": {},
   "outputs": [],
   "source": [
    "def flexibase_multiply(str1, str2, base1, base2):\n",
    "    \"\"\"add two numbers of different bases and return the sum\"\"\"\n",
    "    int1 = base_to_int(str1, base1)\n",
    "    int2 = base_to_int(str2, base2)\n",
    "    \n",
    "    tmp = int1 * int2\n",
    "    \n",
    "    result = int_to_base(tmp, base1)\n",
    "    return result "
   ]
  },
  {
   "cell_type": "code",
   "execution_count": 1,
   "id": "ranking-guarantee",
   "metadata": {},
   "outputs": [],
   "source": [
    "def romanify(num):\n",
    "  \"\"\"given an integer, return the Roman numeral version\"\"\"\n",
    "  result = \"\"\n",
    "  result+=(num//1000*'M')\n",
    "  num%=1000\n",
    "  hold=num//100\n",
    "  num%=100\n",
    "  if hold<=3: result+=hold*'C'\n",
    "  elif hold==4: result+='CD'\n",
    "  elif hold>4 and hold<9: result+=('D'+'C'*(hold-5))\n",
    "  else: result+='CM'\n",
    "  hold=num//10\n",
    "  if hold<=3: result+=hold*'X'\n",
    "  elif hold==4: result+='XL'\n",
    "  elif hold>4 and hold<9: result+=('L'+'X'*(hold-5))\n",
    "  else: result+='XC'\n",
    "  hold=num%10\n",
    "  if hold<=3: result+=hold*'I'\n",
    "  elif hold==4: result+='IV'\n",
    "  elif hold>4 and hold<9: result+=('V'+'I'*(hold-5))\n",
    "  else: result+='IX'\n",
    "  return result\n"
   ]
  },
  {
   "cell_type": "code",
   "execution_count": null,
   "id": "capital-reservoir",
   "metadata": {},
   "outputs": [],
   "source": []
  }
 ],
 "metadata": {
  "kernelspec": {
   "display_name": "Python 3.7.6 64-bit ('anaconda3': virtualenv)",
   "language": "python",
   "name": "python37664bitanaconda3virtualenvc8c428fc488b4b64b9d5ccbaeb460056"
  },
  "language_info": {
   "codemirror_mode": {
    "name": "ipython",
    "version": 3
   },
   "file_extension": ".py",
   "mimetype": "text/x-python",
   "name": "python",
   "nbconvert_exporter": "python",
   "pygments_lexer": "ipython3",
   "version": "3.7.7"
  }
 },
 "nbformat": 4,
 "nbformat_minor": 5
}
